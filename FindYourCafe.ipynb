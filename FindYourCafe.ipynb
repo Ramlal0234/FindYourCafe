{
 "cells": [
  {
   "cell_type": "code",
   "execution_count": 20,
   "id": "c8f83399",
   "metadata": {},
   "outputs": [],
   "source": [
    "import numpy as np\n",
    "import pandas as pd"
   ]
  },
  {
   "cell_type": "code",
   "execution_count": 21,
   "id": "d2261199",
   "metadata": {},
   "outputs": [],
   "source": [
    "food=pd.read_csv(\"food_data.csv\")"
   ]
  },
  {
   "cell_type": "code",
   "execution_count": 22,
   "id": "9d881d27",
   "metadata": {},
   "outputs": [
    {
     "data": {
      "text/html": [
       "<div>\n",
       "<style scoped>\n",
       "    .dataframe tbody tr th:only-of-type {\n",
       "        vertical-align: middle;\n",
       "    }\n",
       "\n",
       "    .dataframe tbody tr th {\n",
       "        vertical-align: top;\n",
       "    }\n",
       "\n",
       "    .dataframe thead th {\n",
       "        text-align: right;\n",
       "    }\n",
       "</style>\n",
       "<table border=\"1\" class=\"dataframe\">\n",
       "  <thead>\n",
       "    <tr style=\"text-align: right;\">\n",
       "      <th></th>\n",
       "      <th>title</th>\n",
       "      <th>Cuisine Type</th>\n",
       "      <th>Location</th>\n",
       "      <th>Best Indian Food Item</th>\n",
       "    </tr>\n",
       "  </thead>\n",
       "  <tbody>\n",
       "    <tr>\n",
       "      <th>0</th>\n",
       "      <td>Janta Sweet Home</td>\n",
       "      <td>Indian</td>\n",
       "      <td>Sardarpura</td>\n",
       "      <td>Lassi</td>\n",
       "    </tr>\n",
       "    <tr>\n",
       "      <th>1</th>\n",
       "      <td>Indique</td>\n",
       "      <td>Indian</td>\n",
       "      <td>Ratanada</td>\n",
       "      <td>Butter Chicken</td>\n",
       "    </tr>\n",
       "    <tr>\n",
       "      <th>2</th>\n",
       "      <td>The Blue Turban</td>\n",
       "      <td>Indian</td>\n",
       "      <td>Sardarpura</td>\n",
       "      <td>Rajasthani Thali</td>\n",
       "    </tr>\n",
       "    <tr>\n",
       "      <th>3</th>\n",
       "      <td>Krishna Roof Top Cafe</td>\n",
       "      <td>Indian</td>\n",
       "      <td>Sardarpura</td>\n",
       "      <td>Dal Bati Churma</td>\n",
       "    </tr>\n",
       "    <tr>\n",
       "      <th>4</th>\n",
       "      <td>The Rasala</td>\n",
       "      <td>Indian</td>\n",
       "      <td>Shastri Nagar</td>\n",
       "      <td>Biryani</td>\n",
       "    </tr>\n",
       "    <tr>\n",
       "      <th>5</th>\n",
       "      <td>Jhankar Choti Haveli</td>\n",
       "      <td>Indian</td>\n",
       "      <td>Sardarpura</td>\n",
       "      <td>Laal Maas</td>\n",
       "    </tr>\n",
       "    <tr>\n",
       "      <th>6</th>\n",
       "      <td>Royal Kitchen</td>\n",
       "      <td>Indian</td>\n",
       "      <td>Paota</td>\n",
       "      <td>Kadhai Paneer</td>\n",
       "    </tr>\n",
       "    <tr>\n",
       "      <th>7</th>\n",
       "      <td>The Royale Platter</td>\n",
       "      <td>Indian</td>\n",
       "      <td>Paota</td>\n",
       "      <td>Mutton Curry</td>\n",
       "    </tr>\n",
       "    <tr>\n",
       "      <th>8</th>\n",
       "      <td>The Curry's</td>\n",
       "      <td>Indian</td>\n",
       "      <td>Chopasani Housing Board</td>\n",
       "      <td>Paneer Tikka</td>\n",
       "    </tr>\n",
       "    <tr>\n",
       "      <th>9</th>\n",
       "      <td>Chokelao Bagh Restaurant</td>\n",
       "      <td>Indian</td>\n",
       "      <td>Jalori Gate</td>\n",
       "      <td>Gatte Ki Sabzi</td>\n",
       "    </tr>\n",
       "  </tbody>\n",
       "</table>\n",
       "</div>"
      ],
      "text/plain": [
       "                      title Cuisine Type                 Location  \\\n",
       "0          Janta Sweet Home       Indian               Sardarpura   \n",
       "1                   Indique       Indian                 Ratanada   \n",
       "2           The Blue Turban       Indian               Sardarpura   \n",
       "3     Krishna Roof Top Cafe       Indian               Sardarpura   \n",
       "4                The Rasala       Indian            Shastri Nagar   \n",
       "5      Jhankar Choti Haveli       Indian               Sardarpura   \n",
       "6             Royal Kitchen       Indian                    Paota   \n",
       "7        The Royale Platter       Indian                    Paota   \n",
       "8               The Curry's       Indian  Chopasani Housing Board   \n",
       "9  Chokelao Bagh Restaurant       Indian              Jalori Gate   \n",
       "\n",
       "  Best Indian Food Item  \n",
       "0                 Lassi  \n",
       "1        Butter Chicken  \n",
       "2      Rajasthani Thali  \n",
       "3       Dal Bati Churma  \n",
       "4               Biryani  \n",
       "5             Laal Maas  \n",
       "6         Kadhai Paneer  \n",
       "7          Mutton Curry  \n",
       "8          Paneer Tikka  \n",
       "9        Gatte Ki Sabzi  "
      ]
     },
     "execution_count": 22,
     "metadata": {},
     "output_type": "execute_result"
    }
   ],
   "source": [
    "food.head(10)"
   ]
  },
  {
   "cell_type": "code",
   "execution_count": 23,
   "id": "6d0123c9",
   "metadata": {},
   "outputs": [
    {
     "data": {
      "text/plain": [
       "(105, 4)"
      ]
     },
     "execution_count": 23,
     "metadata": {},
     "output_type": "execute_result"
    }
   ],
   "source": [
    "food.shape"
   ]
  },
  {
   "cell_type": "code",
   "execution_count": 24,
   "id": "5e6501f0",
   "metadata": {},
   "outputs": [
    {
     "data": {
      "text/plain": [
       "title                    0\n",
       "Cuisine Type             0\n",
       "Location                 0\n",
       "Best Indian Food Item    0\n",
       "dtype: int64"
      ]
     },
     "execution_count": 24,
     "metadata": {},
     "output_type": "execute_result"
    }
   ],
   "source": [
    "food.isnull().sum()"
   ]
  },
  {
   "cell_type": "code",
   "execution_count": 25,
   "id": "a799079e",
   "metadata": {},
   "outputs": [
    {
     "data": {
      "text/plain": [
       "0"
      ]
     },
     "execution_count": 25,
     "metadata": {},
     "output_type": "execute_result"
    }
   ],
   "source": [
    "food.duplicated().sum()"
   ]
  },
  {
   "cell_type": "code",
   "execution_count": 26,
   "id": "c8a1d654",
   "metadata": {},
   "outputs": [],
   "source": [
    "from sklearn.feature_extraction.text import CountVectorizer"
   ]
  },
  {
   "cell_type": "code",
   "execution_count": 27,
   "id": "77d75d17",
   "metadata": {},
   "outputs": [],
   "source": [
    "cv=CountVectorizer()"
   ]
  },
  {
   "cell_type": "code",
   "execution_count": 28,
   "id": "30e524aa",
   "metadata": {},
   "outputs": [],
   "source": [
    "vector=cv.fit_transform(food['Best Indian Food Item']).toarray()"
   ]
  },
  {
   "cell_type": "code",
   "execution_count": 29,
   "id": "8a8b2e73",
   "metadata": {},
   "outputs": [
    {
     "data": {
      "text/plain": [
       "array([[0, 0, 0, ..., 0, 0, 0],\n",
       "       [0, 0, 0, ..., 0, 0, 0],\n",
       "       [0, 0, 0, ..., 0, 0, 0],\n",
       "       ...,\n",
       "       [0, 0, 0, ..., 0, 0, 0],\n",
       "       [0, 0, 0, ..., 0, 0, 0],\n",
       "       [0, 0, 0, ..., 0, 0, 0]], dtype=int64)"
      ]
     },
     "execution_count": 29,
     "metadata": {},
     "output_type": "execute_result"
    }
   ],
   "source": [
    "vector"
   ]
  },
  {
   "cell_type": "code",
   "execution_count": 30,
   "id": "0568d8b8",
   "metadata": {},
   "outputs": [],
   "source": [
    "from sklearn.metrics.pairwise import cosine_similarity"
   ]
  },
  {
   "cell_type": "code",
   "execution_count": 31,
   "id": "e0e22efc",
   "metadata": {},
   "outputs": [],
   "source": [
    "similarity=cosine_similarity(vector)"
   ]
  },
  {
   "cell_type": "code",
   "execution_count": 32,
   "id": "fe33740d",
   "metadata": {},
   "outputs": [
    {
     "data": {
      "text/plain": [
       "array([[1., 0., 0., ..., 0., 0., 0.],\n",
       "       [0., 1., 0., ..., 0., 0., 0.],\n",
       "       [0., 0., 1., ..., 0., 0., 0.],\n",
       "       ...,\n",
       "       [0., 0., 0., ..., 1., 0., 0.],\n",
       "       [0., 0., 0., ..., 0., 1., 0.],\n",
       "       [0., 0., 0., ..., 0., 0., 1.]])"
      ]
     },
     "execution_count": 32,
     "metadata": {},
     "output_type": "execute_result"
    }
   ],
   "source": [
    "similarity"
   ]
  },
  {
   "cell_type": "code",
   "execution_count": 33,
   "id": "54467be0",
   "metadata": {},
   "outputs": [],
   "source": [
    "def recommend(foode):\n",
    "    index=food[food['Best Indian Food Item']==foode].index[0]\n",
    "    distances=sorted(list(enumerate(similarity[index])),reverse=True, key= lambda x:x[1])\n",
    "    \n",
    "    \n",
    "    for i in distances[0:1]:\n",
    "        print(food['title'][i[0]])\n",
    "        print(food['Location'][i[0]])\n",
    "        "
   ]
  },
  {
   "cell_type": "code",
   "execution_count": 34,
   "id": "f6a77f4e",
   "metadata": {},
   "outputs": [
    {
     "name": "stdout",
     "output_type": "stream",
     "text": [
      "Janta Sweet Home\n",
      "Sardarpura\n"
     ]
    }
   ],
   "source": [
    "recommend(\"Lassi\")"
   ]
  },
  {
   "cell_type": "code",
   "execution_count": 35,
   "id": "26373ba7",
   "metadata": {},
   "outputs": [],
   "source": [
    "import pickle"
   ]
  },
  {
   "cell_type": "code",
   "execution_count": 36,
   "id": "90c60b3e",
   "metadata": {},
   "outputs": [],
   "source": [
    "pickle.dump(vector,open(r'C:\\Users\\JP\\Desktop\\findyourcafe\\model\\cafe_list.pkl','wb'))"
   ]
  },
  {
   "cell_type": "code",
   "execution_count": 37,
   "id": "6c4b85cb",
   "metadata": {},
   "outputs": [],
   "source": [
    "pickle.dump(similarity,open(r'C:\\Users\\JP\\Desktop\\findyourcafe\\model\\similarity.pkl','wb'))"
   ]
  },
  {
   "cell_type": "code",
   "execution_count": null,
   "id": "45775a96",
   "metadata": {},
   "outputs": [],
   "source": []
  }
 ],
 "metadata": {
  "kernelspec": {
   "display_name": "Python 3 (ipykernel)",
   "language": "python",
   "name": "python3"
  },
  "language_info": {
   "codemirror_mode": {
    "name": "ipython",
    "version": 3
   },
   "file_extension": ".py",
   "mimetype": "text/x-python",
   "name": "python",
   "nbconvert_exporter": "python",
   "pygments_lexer": "ipython3",
   "version": "3.9.13"
  }
 },
 "nbformat": 4,
 "nbformat_minor": 5
}
